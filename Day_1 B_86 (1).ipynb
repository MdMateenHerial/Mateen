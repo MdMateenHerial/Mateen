{
 "cells": [
  {
   "cell_type": "code",
   "execution_count": 1,
   "id": "db8b73dd-33f7-40ed-a742-724f0fa45d9d",
   "metadata": {},
   "outputs": [
    {
     "name": "stdout",
     "output_type": "stream",
     "text": [
      "Assalamualikum\n"
     ]
    }
   ],
   "source": [
    "print(\"Assalamualikum\")"
   ]
  },
  {
   "cell_type": "code",
   "execution_count": 2,
   "id": "676939b9-6daa-4a1c-b54b-6d56509f1016",
   "metadata": {},
   "outputs": [
    {
     "name": "stdout",
     "output_type": "stream",
     "text": [
      "Myself Mohammed Mateen Herial\n"
     ]
    }
   ],
   "source": [
    "print(\"Myself Mohammed Mateen Herial\")"
   ]
  },
  {
   "cell_type": "code",
   "execution_count": 3,
   "id": "421ceeea-6950-41d1-ba97-71ee98be548e",
   "metadata": {},
   "outputs": [
    {
     "name": "stdout",
     "output_type": "stream",
     "text": [
      "yesterdays work\n"
     ]
    }
   ],
   "source": [
    "print(\"yesterdays work\")"
   ]
  },
  {
   "cell_type": "code",
   "execution_count": null,
   "id": "6eb1d35a-4416-48a6-ab88-b1cc784d594a",
   "metadata": {},
   "outputs": [],
   "source": []
  }
 ],
 "metadata": {
  "kernelspec": {
   "display_name": "Python 3 (ipykernel)",
   "language": "python",
   "name": "python3"
  },
  "language_info": {
   "codemirror_mode": {
    "name": "ipython",
    "version": 3
   },
   "file_extension": ".py",
   "mimetype": "text/x-python",
   "name": "python",
   "nbconvert_exporter": "python",
   "pygments_lexer": "ipython3",
   "version": "3.11.7"
  }
 },
 "nbformat": 4,
 "nbformat_minor": 5
}
